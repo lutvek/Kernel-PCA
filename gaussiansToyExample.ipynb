{
 "cells": [
  {
   "cell_type": "code",
   "execution_count": 1,
   "metadata": {
    "collapsed": false
   },
   "outputs": [],
   "source": [
    "import numpy as np\n",
    "import scipy as sp\n",
    "import matplotlib.pylab as plt\n",
    "% matplotlib inline\n",
    "import math\n",
    "from sklearn.datasets import make_circles\n",
    "from sklearn.model_selection import train_test_split\n",
    "import sklearn as sk\n",
    "from sklearn.decomposition import PCA\n",
    "from sklearn.decomposition import KernelPCA\n",
    "import time"
   ]
  },
  {
   "cell_type": "markdown",
   "metadata": {},
   "source": [
    "# I The framework"
   ]
  },
  {
   "cell_type": "markdown",
   "metadata": {},
   "source": [
    "Let $x$ be a test point. $\\{x_i\\}$_{i=1}^l are the \"train\" data. $\\{V^k\\}_{k=1}^l$ are the eigeinvectors of the covariance matrix $\\bar{\\mathbf{C}}$. If we suppose the $\\Phi$-images of the train data to be centered (in the feature space), the covariance matrix is $\\bar{\\mathbf{C}}=\\frac{1}{l}\\sum_{k=1}^l\\Phi(x_k)\\Phi(x_k)^T$, so an eigenvector $V$ with eigenvalue $\\lambda$ satisfies \n",
    "$\\bar{\\mathbf{C}}V=\\lambda V$, \n",
    "i.e $\\frac{1}{l}\\sum_{k=1}^l(\\Phi(x_k)\\Phi(x_k)^T)V=\\lambda V$, \n",
    "i.e $\\frac{1}{l}\\sum_{k=1}^l\\underbrace{(\\Phi(x_k)\\cdot V)}_{scalar}\\Phi(x_k)=\\lambda V$\n",
    "For non-zero eigenvalue $\\lambda$ we have:\n",
    "$V=\\frac{1}{l\\lambda}\\sum_{k=1}^l\\underbrace{(\\Phi(x_k)\\cdot V)}_{scalar}\\Phi(x_k)$\n",
    "So $V$ is a linear combination of the $\\Phi$-images of the training data, there exist coefficients $\\{\\alpha_i\\}_{i=1}^l$ such that $V=\\sum_{i=1}^l\\alpha_i \\Phi(x_i)$. Now let's see how to actually compute these coefficients $\\alpha_i$. The equation $\\lambda V=\\bar{\\mathbf{C}}V$ can be written in $l$ scalar equations \n",
    "$$\\forall j \\in \\{1,\\dots,l\\} \\lambda(V \\cdot \\Phi(x_j))=(\\bar{\\mathbf{C}}V\\cdot \\Phi(x_j))$$\n",
    "$$\\lambda (\\sum_{i=1}^l\\alpha_i\\Phi(x_i) \\cdot \\Phi(x_j))=(\\Big[\\frac{1}{l}\\sum_{k=1}^l(\\Phi(x_k) \\Phi(x_k)^T)\\sum_{i=1}^l\\alpha_i\\Phi(x_i)\\Big] \\cdot \\Phi(x_j))$$\n",
    "$$\\lambda (\\sum_{i=1}^l\\alpha_i\\Phi(x_i) \\cdot \\Phi(x_j))=(\\Big[\\frac{1}{l}\\sum_{k=1}^l\\sum_{i=1}^l\\alpha_i\\underbrace{(\\Phi(x_k) \\Phi(x_k)^T)\\Phi(x_i)}_{(\\Phi(x_k)\\cdot \\Phi(x_i))\\Phi(x_k)}\\Big] \\cdot \\Phi(x_j))$$\n",
    "$$\\lambda (\\sum_{i=1}^l\\alpha_i\\Phi(x_i) \\cdot \\Phi(x_j))=(\\frac{1}{l}\\sum_{k=1}^l\\sum_{i=1}^l\\alpha_i(\\Phi(x_k)\\cdot \\Phi(x_i))\\Phi(x_k) \\cdot \\Phi(x_j))$$\n",
    "$$\\lambda \\sum_{i=1}^l\\alpha_ik(x_i, x_j)=(\\frac{1}{l}\\sum_{k=1}^l\\sum_{i=1}^l\\alpha_ik(x_i, x_k)\\Phi(x_k) \\cdot \\Phi(x_j))$$\n",
    "$$\\lambda \\sum_{i=1}^l\\alpha_ik(x_i, x_j)=\\frac{1}{l}\\sum_{k=1}^l\\sum_{i=1}^l\\alpha_ik(x_i, x_k)k(x_k, x_j)$$\n",
    "$$\\lambda \\sum_{i=1}^l\\alpha_iK_{ij}=\\frac{1}{l}\\sum_{k=1}^l\\sum_{i=1}^l\\alpha_iK_{ik}K_{kj}$$\n",
    "$$\\lambda \\sum_{i=1}^l\\alpha_i\\underbrace{K_{ij}}_{=K_{ji} \\text{because K symmetric}}=\\frac{1}{l}\\sum_{k=1}^l\\sum_{i=1}^l\\alpha_iK_{ik}K_{kj}$$\n",
    "$$\\lambda (K\\alpha)_j = \\frac{1}{l}\\sum_{k=1}^l(K\\alpha)_kK_{kj}$$\n",
    "$$\\lambda (K\\alpha)_j = \\frac{1}{l}(KK\\alpha)_j$$\n",
    "So in a vector form we have:\n",
    "$$\\lambda K\\alpha = \\frac{1}{l}K^2\\alpha$$\n",
    "$$l \\lambda K \\alpha = K^2 \\alpha$$\n",
    "$$l \\lambda \\alpha = K \\alpha$$\n",
    "So\n",
    "* Projections of $x$ on the $V^k$: $\\beta_k=\\sum_{i=1}^l\\alpha_i^kk(x,x_i)$"
   ]
  },
  {
   "cell_type": "markdown",
   "metadata": {},
   "source": [
    "* The $\\gamma_i$ can also be computed before starting the iterations.\n",
    "* I add maxIters as a parameter to calcZ"
   ]
  },
  {
   "cell_type": "code",
   "execution_count": 129,
   "metadata": {
    "collapsed": false
   },
   "outputs": [],
   "source": [
    "def gaussianKernel(x, y, c):\n",
    "    ''' Returns K(x,y) where K denotes gaussian kernel '''\n",
    "    return math.exp(-(np.linalg.norm(x-y)**2) / c)\n",
    "\n",
    "def createK(data, kernelFunction, c):\n",
    "    ''' Returns K matrix containing inner products of the data using the kernel function \n",
    "        so that K_ij := (phi(x_i)*phi(x_j)) '''\n",
    "    l = len(data)\n",
    "    K = np.zeros((l,l))\n",
    "    for col in range(l):\n",
    "        for row in range(l):\n",
    "            K[row][col] = kernelFunction(data[row],data[col], c)\n",
    "    return K\n",
    "\n",
    "def calcBetaK(alphaK, kernelFunction, data, x, c):\n",
    "    ''' Returns the projection of x onto the eigenvector V_k '''\n",
    "    betaK = 0\n",
    "    for i,xi in enumerate(data):\n",
    "        betaK += alphaK[i]*kernelFunction(xi,x,c)\n",
    "    return betaK\n",
    "\n",
    "def centerK(K):\n",
    "    ''' Returns centered K matrix, see K. Murphy 14.43 '''\n",
    "    l = len(K)\n",
    "    Kcentered = np.zeros((l,l))\n",
    "    for i in range(l):\n",
    "        for j in range(l):\n",
    "            Kcentered[i][j] = K[i][j] - np.mean(K[i]) + (np.sum(K)/l**2) - np.mean(K.T[j])\n",
    "    return Kcentered\n",
    "\n",
    "def normAlpha(alpha, lambdas):\n",
    "    ''' Returns new alpha corresponding to normalized eigen vectors,\n",
    "        so that lambda_k(a^k * a^k) = 1 '''\n",
    "    for i,a in enumerate(alpha):\n",
    "        a /= np.sqrt(lambdas[i])\n",
    "    return alpha\n",
    "\n",
    "def calcZ(alpha, data, x, kernelFunction, c,z0, maxIters):\n",
    "    ''' Equation (10), returns pre-image z for single input datapoint x '''\n",
    "    z = z0\n",
    "    iters=0\n",
    "    # calculate beta (does not change with each iteration)\n",
    "    beta = [calcBetaK(aK, kernelFunction, data, x, c) for aK in alpha]\n",
    "    # gamma does not change with each iteration neither\n",
    "    gamma = [calcGammaIOpt(alpha, i, beta) * kernelFunction(z,xi,c) for i, xi in enumerate(data)]\n",
    "\n",
    "    while iters < maxIters:\n",
    "        numerator = 0\n",
    "        denom = 0\n",
    "        for i, xi in enumerate(data):\n",
    "            #gammaI = calcGammaI(alpha, i, data, x, kernelFunction, c) * kernelFunction(z,xi,c)\n",
    "            #gammaI = calcGammaIOpt(alpha, i, beta) * kernelFunction(z,xi,c)\n",
    "            gammaI = gamma[i] * kernelFunction(z,xi,c)\n",
    "            numerator += gammaI * xi\n",
    "            denom += gammaI\n",
    "        if denom != 0: # > 10**-12: #handling numerical instability\n",
    "            z = numerator/denom\n",
    "            iters +=1\n",
    "        else:\n",
    "            # print(\"instability\", \"z\", z, \"x\", x, \"numerator\", numerator)\n",
    "            iters =0\n",
    "            z=z0 + np.random.multivariate_normal(np.zeros(z0.size),np.identity(z0.size))\n",
    "            numerator = 0\n",
    "            denom = 0\n",
    "    return z\n",
    "\n",
    "def calcGammaI(alpha, i, data, x, kernelFunction, c):\n",
    "    ''' returns gamma_i = sum_{k=1}^n beta_k * alpha_i^k '''\n",
    "    gammaI = 0\n",
    "    alphaI = alpha.T[i]\n",
    "    for k, alphaKI in enumerate(alphaI):\n",
    "        gammaI += calcBetaK(alpha[k], kernelFunction, data, x, c) * alphaKI\n",
    "    return gammaI\n",
    "\n",
    "def calcGammaIOpt(alpha, i, beta):\n",
    "    ''' returns gamma_i = sum_{k=1}^n beta_k * alpha_i^k '''\n",
    "    gammaI = 0\n",
    "    alphaI = alpha.T[i]\n",
    "    for k, alphaKI in enumerate(alphaI):\n",
    "        gammaI += beta[k] * alphaKI\n",
    "    return gammaI"
   ]
  },
  {
   "cell_type": "markdown",
   "metadata": {},
   "source": [
    "## II Eleven gaussians in $\\mathbb{R}^{10}$\n",
    "Dataset:\n",
    "* we generated a data set from eleven Gaussians in $\\mathbb{R}^{10}$ with \"zero\" mean and variance $\\sigma^2$ in each component\n",
    "* selecting from each source $100$ points as a training set and $33$ points for a test set \n",
    "* centers of the Gaussians randomly chosen in $[-1, 1]^{10}$"
   ]
  },
  {
   "cell_type": "markdown",
   "metadata": {},
   "source": [
    "## 1) Let's start in $\\mathbb{R}^2$"
   ]
  },
  {
   "cell_type": "markdown",
   "metadata": {},
   "source": [
    "Generate some 2D data"
   ]
  },
  {
   "cell_type": "code",
   "execution_count": 138,
   "metadata": {
    "collapsed": false
   },
   "outputs": [
    {
     "data": {
      "text/plain": [
       "<matplotlib.text.Text at 0x113026240>"
      ]
     },
     "execution_count": 138,
     "metadata": {},
     "output_type": "execute_result"
    },
    {
     "data": {
      "image/png": "[encoded data removed]",
      "text/plain": [
       "<matplotlib.figure.Figure at 0x113026da0>"
      ]
     },
     "metadata": {},
     "output_type": "display_data"
    }
   ],
   "source": [
    "sigma = 0.5\n",
    "center = np.array([0, 0])\n",
    "Xtrain = np.random.multivariate_normal(center, sigma**2*np.identity(2), size=100)\n",
    "Xtest = np.random.multivariate_normal(center, sigma**2*np.identity(2), size=33)\n",
    "plt.scatter(Xtrain[:, 0], Xtrain[:, 1], c=\"r\", s=10)\n",
    "plt.title(\"Training data\\n $\\sigma=$\" + str(sigma) + \" \" + str(len(Xtrain)) + \" samples\")"
   ]
  },
  {
   "cell_type": "markdown",
   "metadata": {},
   "source": [
    "## 2) Linear PCA"
   ]
  },
  {
   "cell_type": "code",
   "execution_count": 139,
   "metadata": {
    "collapsed": true
   },
   "outputs": [],
   "source": [
    "def error(Z, center):\n",
    "    return np.mean(np.array([np.linalg.norm(z-center)**2 for z in Z]))"
   ]
  },
  {
   "cell_type": "markdown",
   "metadata": {},
   "source": [
    "my implementation of linear PCA"
   ]
  },
  {
   "cell_type": "code",
   "execution_count": 141,
   "metadata": {
    "collapsed": false
   },
   "outputs": [
    {
     "data": {
      "text/plain": [
       "<matplotlib.text.Text at 0x11329e898>"
      ]
     },
     "execution_count": 141,
     "metadata": {},
     "output_type": "execute_result"
    },
    {
     "data": {
      "image/png": "[encoded data removed]",
      "text/plain": [
       "<matplotlib.figure.Figure at 0x113045400>"
      ]
     },
     "metadata": {},
     "output_type": "display_data"
    }
   ],
   "source": [
    "C = np.zeros((2, 2)) # covariance matrix of training samples\n",
    "m = np.mean(Xtrain, axis=0) # mean of training samples\n",
    "for x in Xtrain:\n",
    "    C += 1/100*np.dot(np.reshape(x, (2, 1))-np.reshape(m, (2, 1)), \n",
    "                      (np.reshape(x, (2, 1))-np.reshape(m, (2, 1))).T)\n",
    "\n",
    "lambda_, v = np.linalg.eigh(C)\n",
    "\n",
    "Z = []\n",
    "for x in Xtest:\n",
    "    Z.append(np.sum([np.dot(x, vi)*vi for vi in v[-1:]], axis=0)) # use one component\n",
    "Z = np.array(Z)\n",
    "\n",
    "plt.scatter(Xtrain[:, 0], Xtrain[:, 1], c=\"r\", s=10, label=\"train data\")\n",
    "plt.scatter(Xtest[:, 0], Xtest[:, 1], c=\"r\", marker=\"*\", s=400, label=\"train data\")\n",
    "plt.scatter(Z[:, 0], Z[:, 1], c=\"b\", marker=\"*\", s=400, label=\"denoised\")\n",
    "# plt.scatter(Z2[:, 0], Z2[:, 1], c=\"b\", marker=\"*\", s=400, label=\"denoised\")\n",
    "plt.scatter(center[0], center[1], c=\"g\", marker=\"*\", s=500)\n",
    "plt.title(\"test samples from X1test denoised with PCA (one principal component)\\n error=\" + str(error(Z, center)))"
   ]
  },
  {
   "cell_type": "markdown",
   "metadata": {},
   "source": [
    "## 3) Kernel PCA"
   ]
  },
  {
   "cell_type": "code",
   "execution_count": 16,
   "metadata": {
    "collapsed": false,
    "scrolled": false
   },
   "outputs": [
    {
     "name": "stdout",
     "output_type": "stream",
     "text": [
      "--- 4.960752964019775 seconds ---\n"
     ]
    },
    {
     "data": {
      "text/plain": [
       "<matplotlib.text.Text at 0x112f92320>"
      ]
     },
     "execution_count": 16,
     "metadata": {},
     "output_type": "execute_result"
    },
    {
     "data": {
      "image/png": "[encoded data removed]",
      "text/plain": [
       "<matplotlib.figure.Figure at 0x11255bbe0>"
      ]
     },
     "metadata": {},
     "output_type": "display_data"
    }
   ],
   "source": [
    "start_time = time.time()\n",
    "c = 2*2*sigma**2\n",
    "l = len(Xtrain)\n",
    "maxIters = 50\n",
    "n = 1\n",
    "\n",
    "Data = Xtrain\n",
    "K = centerK(createK(Data, gaussianKernel, c))\n",
    "\n",
    "# find eigen vectors\n",
    "lLambda, alpha = np.linalg.eigh(K) # (3), use eigh because K is symmetric, vap returned in increasing order\n",
    "lambdas = lLambda/l # /l with the notation from the paper (but not murphys) \n",
    "\n",
    "# use only the n largest eigen values with corresponding vectors\n",
    "lambdas=lambdas[-n:]\n",
    "alpha=alpha[-n:]\n",
    "\n",
    "# normalize alpha\n",
    "alpha = normAlpha(alpha, lambdas)\n",
    "\n",
    "Z =[]\n",
    "for x in Xtest:\n",
    "    Z.append(calcZ(alpha, Data, x, gaussianKernel, c, x, maxIters))\n",
    "Z = np.array(Z)\n",
    "\n",
    "plt.scatter(Xtrain[:, 0], Xtrain[:, 1], c=\"r\", s=10, label=\"train data\")\n",
    "plt.scatter(Z[:, 0], Z[:, 1], c=\"b\", s=40, label=\"denoised\")\n",
    "plt.scatter(center[0], center[1], c=\"g\", marker=\"*\", s=500)\n",
    "print(\"--- %s seconds ---\" % (time.time() - start_time))\n",
    "plt.title(\"test samples from Xtest denoised with kernel PCA\\n error=\" + str(error(Z, center)))"
   ]
  },
  {
   "cell_type": "markdown",
   "metadata": {},
   "source": [
    "## 4) Pre-images from initialisation to convergence"
   ]
  },
  {
   "cell_type": "markdown",
   "metadata": {},
   "source": [
    "some 2D data"
   ]
  },
  {
   "cell_type": "code",
   "execution_count": 25,
   "metadata": {
    "collapsed": false
   },
   "outputs": [
    {
     "data": {
      "text/plain": [
       "<matplotlib.text.Text at 0x11469e198>"
      ]
     },
     "execution_count": 25,
     "metadata": {},
     "output_type": "execute_result"
    },
    {
     "data": {
      "image/png": "[encoded data removed]",
      "text/plain": [
       "<matplotlib.figure.Figure at 0x1141be9b0>"
      ]
     },
     "metadata": {},
     "output_type": "display_data"
    }
   ],
   "source": [
    "sigma = 0.5\n",
    "center = np.random.uniform(-1, 1, size=2)\n",
    "Xtrain = np.random.multivariate_normal(center, sigma**2*np.identity(2), size=100)\n",
    "Xtest = np.random.multivariate_normal(center, sigma**2*np.identity(2), size=33)\n",
    "plt.scatter(Xtrain[:, 0], Xtrain[:, 1], c=\"r\", s=10)\n",
    "plt.title(\"The data\\n $\\mathcal{N}($\" + str(center) +  \",  $0.5^2$)\")"
   ]
  },
  {
   "cell_type": "markdown",
   "metadata": {},
   "source": [
    "Let's see how the sequence $z_t$ evolves. And also check if convergence is reached at the same point across different random starting points."
   ]
  },
  {
   "cell_type": "code",
   "execution_count": 28,
   "metadata": {
    "collapsed": false,
    "scrolled": false
   },
   "outputs": [
    {
     "name": "stdout",
     "output_type": "stream",
     "text": [
      "[[-0.26142970341042931, -0.0015065205508649113]]\n"
     ]
    },
    {
     "data": {
      "text/plain": [
       "<matplotlib.text.Text at 0x1146a9c18>"
      ]
     },
     "execution_count": 28,
     "metadata": {},
     "output_type": "execute_result"
    },
    {
     "data": {
      "image/png": "[encoded data removed]",
      "text/plain": [
       "<matplotlib.figure.Figure at 0x1147d77f0>"
      ]
     },
     "metadata": {},
     "output_type": "display_data"
    }
   ],
   "source": [
    "z = [list(np.random.multivariate_normal([0, 0], sigma**2*np.identity(2)))]\n",
    "print(z) # the random starting point\n",
    "n = 1 # one component for reconstruction\n",
    "z0 = np.array([[0, 0]]) # in case of numerical instability\n",
    "iters=0\n",
    "maxIters = 30 # number of iterations\n",
    "c = 2*2*sigma**2\n",
    "Data = Xtrain\n",
    "K = centerK(createK(Data, gaussianKernel, c))\n",
    "lLambda, alpha = np.linalg.eigh(K) \n",
    "lambdas = lLambda/l \n",
    "lambdas=lambdas[-n:]\n",
    "alpha=alpha[-n:]\n",
    "\n",
    "# normalize alpha\n",
    "alpha = normAlpha(alpha, lambdas)\n",
    "\n",
    "beta = [calcBetaK(aK, gaussianKernel, Xtrain, x, c) for aK in alpha]\n",
    "gamma = [calcGammaIOpt(alpha, i, beta) for i in range(len(Xtrain))]\n",
    "\n",
    "while iters < maxIters:\n",
    "    numerator = 0\n",
    "    denom = 0\n",
    "    for i, xi in enumerate(Xtrain):\n",
    "        gammaI = gamma[i] * gaussianKernel(z[-1], xi, c)\n",
    "        numerator += gammaI * xi\n",
    "        denom += gammaI\n",
    "    if denom!=0: #handling numerical instability\n",
    "        z.append(numerator/denom)\n",
    "        iters +=1\n",
    "    else:\n",
    "        print(\"---\", \"instability\", denom, \"---\")\n",
    "        iters = 0\n",
    "        z = list(z0 + np.random.multivariate_normal(np.zeros(z0.size), np.identity(z0.size)))\n",
    "        numerator = 0\n",
    "        denom = 0\n",
    "        \n",
    "z = np.array(z)\n",
    "plt.scatter(Xtrain[:, 0], Xtrain[:, 1], c=\"r\", s=10, label=\"the data\")\n",
    "plt.scatter(z[:, 0], z[:, 1], c=\"g\", s=400, marker=\"*\", label=\"z\")\n",
    "plt.title(\"pre-images, convergence=\" + str(z[-1]))"
   ]
  },
  {
   "cell_type": "markdown",
   "metadata": {},
   "source": [
    "## 3) Now the real thing in $\\mathbb{R}^{10}$"
   ]
  },
  {
   "cell_type": "markdown",
   "metadata": {},
   "source": [
    "Generate data in $\\mathbb{R}^{10}$"
   ]
  },
  {
   "cell_type": "code",
   "execution_count": 135,
   "metadata": {
    "collapsed": false
   },
   "outputs": [
    {
     "name": "stdout",
     "output_type": "stream",
     "text": [
      "(5, 11, 100, 10)\n"
     ]
    }
   ],
   "source": [
    "sigma = np.array([0.05, 0.1, 0.2, 0.4, 0.8])\n",
    "centers = np.random.uniform(-1, 1, size=(11, 10))\n",
    "centers = np.zeros((11, 10))\n",
    "Xtrain = np.array([[np.random.multivariate_normal(center, s**2*np.identity(10), size=100) for center in centers] for s in sigma])\n",
    "Xtest = np.array([[np.random.multivariate_normal(center, s**2*np.identity(10), size=33) for center in centers] for s in sigma]) \n",
    "print(Xtrain.shape)"
   ]
  },
  {
   "cell_type": "code",
   "execution_count": 136,
   "metadata": {
    "collapsed": false,
    "scrolled": false
   },
   "outputs": [
    {
     "name": "stdout",
     "output_type": "stream",
     "text": [
      "0.05 1 0.0286502991524 0.19200016582 0.149220179212\n",
      "0.05 2 0.0553966635534 0.118175171402 0.468767363705\n",
      "0.05 3 0.0873151142443 0.0815414456396 1.07080655192\n",
      "0.05 4 0.112687239853 0.0891887688913 1.2634689463\n",
      "0.05 5 0.141961626842 0.0620700621958 2.28711913313\n",
      "0.05 6 0.168977281615 0.0571661432322 2.95589788047\n",
      "0.05 7 0.198464364809 0.0525109891737 3.77948250323\n",
      "0.05 8 0.223280950688 0.0448559665496 4.97773134463\n",
      "0.05 9 0.249728030731 0.0444138001082 5.6227575691\n"
     ]
    }
   ],
   "source": [
    "maxIters = 10\n",
    "def ratio(sigmaIdx, n):\n",
    "    c = 10*2*sigma[sigmaIdx]**2\n",
    "    errorKPCA, errorPCA = 0, 0\n",
    "    for idx, center in enumerate(centers):\n",
    "        Data = Xtrain[sigmaIdx][idx]\n",
    "        Test = Xtest[sigmaIdx][idx]\n",
    "\n",
    "        l = len(Data)\n",
    "\n",
    "        # kernel pca\n",
    "        K = centerK(createK(Data, gaussianKernel, c))\n",
    "        lLambda, alpha = np.linalg.eigh(K) \n",
    "        lambdas = lLambda/l\n",
    "        lambdas, alpha = lambdas[-n:], alpha[-n:]\n",
    "        alpha = normAlpha(alpha, lambdas)\n",
    "\n",
    "        #kpca = KernelPCA(n_components=n, kernel=\"rbf\", fit_inverse_transform=True, gamma=10)\n",
    "        #kpca.fit(Data)\n",
    "        #Zkpca = kpca.transform(Test)\n",
    "\n",
    "        # linear pca\n",
    "        m = np.mean(Data, axis=0) # mean of training samples\n",
    "        #pca = PCA(n_components=n)\n",
    "        #pca.fit(Data)\n",
    "        #Zpca2 = pca.transform(Test)\n",
    "        #Zpca2 = np.array([m+np.sum(np.array([zz[i]*pca.components_[i] for i in range(n)])) for zz in Zpca2])\n",
    "\n",
    "        C = np.zeros((10, 10)) # covariance matrix of training samples\n",
    "        #print(\"mean of training samples\", m, \"center of generating gaussian\", center)\n",
    "        for x in Data-m:\n",
    "            C += 1/100*np.dot(np.reshape(x, (10, 1)), np.reshape(x, (10, 1)).T)\n",
    "        lambda_, v = np.linalg.eigh(C)\n",
    "\n",
    "        Zkpca = []\n",
    "        Zpca = []\n",
    "        for x in Test:\n",
    "            Zkpca.append(calcZ(alpha, Data, x, gaussianKernel, c, x, maxIters))\n",
    "            Zpca.append(m+np.sum(np.array([np.dot(x, vi)*vi for vi in v[-n:]]), axis=0))\n",
    "        Zkpca = np.array(Zkpca)\n",
    "        Zpca = np.array(Zpca)\n",
    "        #print(\"one sample of Zpca\", Zpca[np.random.randint(0, len(Zpca)-1)])\n",
    "        #print(\"one sample of Zkpca\", Zkpca[np.random.randint(0, len(Zkpca)-1)])\n",
    "        #print(\"-----------------------------------------------------------------\")\n",
    "        errorKPCA += error(Zkpca, center)\n",
    "        errorPCA += error(Zpca, center)\n",
    "    ratio = errorPCA/errorKPCA\n",
    "    print(sigma[sigmaIdx], n, errorPCA, errorKPCA, ratio)\n",
    "for n in range(1, 10):\n",
    "    ratio(0, n)"
   ]
  },
  {
   "cell_type": "markdown",
   "metadata": {},
   "source": [
    "# III Half-circle "
   ]
  }
 ],
 "metadata": {
  "kernelspec": {
   "display_name": "Python 3",
   "language": "python",
   "name": "python3"
  },
  "language_info": {
   "codemirror_mode": {
    "name": "ipython",
    "version": 3
   },
   "file_extension": ".py",
   "mimetype": "text/x-python",
   "name": "python",
   "nbconvert_exporter": "python",
   "pygments_lexer": "ipython3",
   "version": "3.5.2"
  }
 },
 "nbformat": 4,
 "nbformat_minor": 0
}
