{
 "cells": [
  {
   "cell_type": "code",
   "execution_count": 8,
   "metadata": {
    "collapsed": false
   },
   "outputs": [],
   "source": [
    "import numpy as np\n",
    "import scipy as sp\n",
    "import matplotlib.pylab as plt\n",
    "import math\n",
    "from sklearn.datasets import make_circles\n",
    "from sklearn.model_selection import train_test_split\n",
    "import sklearn as sk\n",
    "from sklearn.decomposition import PCA\n",
    "from sklearn.decomposition import KernelPCA\n",
    "import time\n",
    "from sklearn.metrics.pairwise import rbf_kernel\n",
    "%matplotlib inline\n",
    "\n",
    "def createK(data, c):\n",
    "    return rbf_kernel(data, data, gamma=1/c)\n",
    "\n",
    "def calcBetaK(alphaK, data, x, c):\n",
    "    kernel = rbf_kernel(data, x.reshape(1, -1), 1/c)\n",
    "    return np.dot(alphaK, kernel)\n",
    "\n",
    "def centerK(K):\n",
    "    ''' Returns centered K matrix, see K. Murphy 14.43 '''\n",
    "    l = len(K)\n",
    "    l_ones = np.ones((l, l), dtype=int) / l\n",
    "    Kcentered = K - np.dot(l_ones,K)-np.dot(K,l_ones)+np.dot(l_ones,np.dot(K,l_ones))\n",
    "    return Kcentered\n",
    "\n",
    "def normAlpha(alpha, lambdas):\n",
    "    ''' Returns new alpha corresponding to normalized eigen vectors,\n",
    "        so that lambda_k(a^k * a^k) = 1 '''\n",
    "    for i,a in enumerate(alpha):\n",
    "        a /= np.sqrt(lambdas[i])\n",
    "    return alpha\n",
    "\n",
    "def calcZ(alpha, data, x, c, z0, maxIters, showProgress=False):\n",
    "    ''' Equation (10), returns pre-image z for single input datapoint x '''\n",
    "    z = z0\n",
    "    cov_0 = np.std(data, axis=0)**2*np.identity(z0.size)\n",
    "    m = np.mean(data, axis=0)\n",
    "    iters=0\n",
    "    beta = [calcBetaK(aK, data, x, c) for aK in alpha]\n",
    "    gamma = [calcGammaIOpt(alpha, i, beta) for i in range(len(data))]\n",
    "    \n",
    "    while iters < maxIters:\n",
    "        numerator, denom = 0, 0\n",
    "        kernel = rbf_kernel(data, z.reshape(1, -1), 1/c)\n",
    "        for i, xi in enumerate(data):\n",
    "            gammaI = gamma[i] * kernel[i][0]\n",
    "            numerator += gammaI * xi\n",
    "            denom += gammaI\n",
    "        if denom!=0: #handling numerical instability\n",
    "            z = numerator/denom\n",
    "            if showProgress:\n",
    "                print(iters, z)\n",
    "            iters +=1\n",
    "        else:\n",
    "            # print(\"instability\", \"z\", z, \"x\", x, \"numerator\", numerator)\n",
    "            iters =0\n",
    "            z = z0 + np.random.multivariate_normal(np.zeros(z0.size), cov_0)\n",
    "            numerator, denom = 0, 0\n",
    "    return z\n",
    "\n",
    "def calcGammaIOpt(alpha, i, beta):\n",
    "    ''' returns gamma_i = sum_{k=1}^n beta_k * alpha_i^k '''\n",
    "    gammaI = 0\n",
    "    alphaI = alpha.T[i]\n",
    "    for k, alphaKI in enumerate(alphaI):\n",
    "        gammaI += beta[k] * alphaKI\n",
    "    return gammaI\n",
    "\n",
    "def myPCA(data, test, n):\n",
    "    l, d = data.shape\n",
    "    C = np.zeros((d, d))\n",
    "    m = np.mean(data, axis=0)\n",
    "    for xi in data-m:\n",
    "        C += 1/l*np.dot(xi.reshape((d, 1)), xi.reshape((d, 1)).T)\n",
    "    lambdas, v = np.linalg.eigh(C)\n",
    "    v = v.T\n",
    "    Z = np.zeros(test.shape) # result\n",
    "    for i, xi in enumerate(test-m):\n",
    "        Z[i] = m+np.sum(np.array([np.dot(np.dot(xi, vi), vi) for vi in v[-n:]]), axis=0)\n",
    "    return Z\n",
    "\n",
    "def myKPCA(data, test, n, c, maxIters, showProgress=False, debug=False):\n",
    "    l = len(data)\n",
    "    K = centerK(createK(data, c))\n",
    "    lambdas, alphas = np.linalg.eigh(K)\n",
    "    alphas = alphas.T\n",
    "    lambdas = lambdas/l\n",
    "    lambdas, alphas = lambdas[-n:], alphas[-n:]\n",
    "    alphas = normAlpha(alphas, lambdas)\n",
    "    Z = np.zeros(test.shape)\n",
    "    for i, xi in enumerate(test):\n",
    "        Z[i] = calcZ(alphas, data, xi, c, xi, maxIters, showProgress=showProgress)\n",
    "    return Z"
   ]
  },
  {
   "cell_type": "code",
   "execution_count": 5,
   "metadata": {
    "collapsed": false
   },
   "outputs": [
    {
     "name": "stdout",
     "output_type": "stream",
     "text": [
      "(5, 1100, 10) (5, 363, 10)\n"
     ]
    }
   ],
   "source": [
    "sigmas = np.array([0.05, 0.1, 0.2, 0.4, 0.8])\n",
    "centers = np.random.uniform(-1, 1, size=(11, 10))\n",
    "nTrain, nTest = 100, 33\n",
    "\n",
    "Xtrain, Xtest = [], []\n",
    "for s in sigmas:\n",
    "    xtrain, xtest = [], []\n",
    "    for center in centers:\n",
    "        for _ in range(nTrain):\n",
    "            xtrain.append(np.random.multivariate_normal(center, s**2*np.identity(10)))\n",
    "        for _ in range(nTest):\n",
    "            xtest.append(np.random.multivariate_normal(center, s**2*np.identity(10)))\n",
    "    Xtrain.append(xtrain)\n",
    "    Xtest.append(xtest)\n",
    "Xtrain, Xtest = np.array(Xtrain), np.array(Xtest)\n",
    "Z0 = []\n",
    "for center in centers:\n",
    "    for _ in range(nTest):\n",
    "        Z0.append(center)\n",
    "Z0 = np.array(Z0)\n",
    "print(Xtrain.shape, Xtest.shape)"
   ]
  },
  {
   "cell_type": "code",
   "execution_count": 9,
   "metadata": {
    "collapsed": false,
    "scrolled": false
   },
   "outputs": [
    {
     "name": "stdout",
     "output_type": "stream",
     "text": [
      "0.05 1 715.978257009 0.150130456085 4769.04071085\n",
      "---  12.282093048095703 sec ---\n"
     ]
    }
   ],
   "source": [
    "start_time = time.time()\n",
    "maxIters = 1\n",
    "for sigmaIdx in [0]:\n",
    "    c = 10*2*sigmas[sigmaIdx]**2\n",
    "    Data = Xtrain[sigmaIdx]\n",
    "    Test = Xtest[sigmaIdx]\n",
    "    for n in [1]:\n",
    "        Zpca = myPCA(Data, Test, n)\n",
    "        Zkpca = myKPCA(Data, Test, n, c, maxIters)\n",
    "        \n",
    "        errorPCA, errorKPCA = 0, 0\n",
    "        \n",
    "        for i, z in enumerate(Zpca):\n",
    "            errorPCA += np.linalg.norm(z-centers[int(i/nTest)])**2\n",
    "        for i, z in enumerate(Zkpca):\n",
    "            errorKPCA += np.linalg.norm(z-centers[int(i/nTest)])**2\n",
    "        \n",
    "        print(sigmas[sigmaIdx], n, errorPCA, errorKPCA, errorPCA/errorKPCA)\n",
    "print(\"--- \", time.time()-start_time, \"sec\", \"---\")"
   ]
  },
  {
   "cell_type": "code",
   "execution_count": 147,
   "metadata": {
    "collapsed": false
   },
   "outputs": [
    {
     "name": "stdout",
     "output_type": "stream",
     "text": [
      "0.1 1 914.834142941 0.398880599644 2293.50372958\n",
      "0.1 2 657.742815909 0.399094877294 1648.08634069\n",
      "0.1 3 439.928859003 0.399534612097 1101.10324784\n",
      "0.1 4 298.085559971 0.399708297801 745.757747865\n",
      "0.1 5 182.667701498 0.399826791118 456.867087338\n",
      "0.1 6 119.191621049 0.400148079545 297.868781938\n",
      "0.1 7 66.9153887701 0.400606436563 167.035231246\n",
      "0.1 8 36.2474835593 0.400863539332 90.4234982799\n",
      "0.1 9 31.3890052837 0.400961371002 78.2843624194\n",
      "---  364.1133449077606 sec ---\n"
     ]
    }
   ],
   "source": [
    "start_time = time.time()\n",
    "maxIters = 5\n",
    "for sigmaIdx in [1]:\n",
    "    c = 10*2*sigmas[sigmaIdx]**2\n",
    "    Data = Xtrain[sigmaIdx]\n",
    "    Test = Xtest[sigmaIdx]\n",
    "    for n in range(1, 10):\n",
    "        Zpca = myPCA(Data, Test, n)\n",
    "        Zkpca = myKPCA(Data, Test, n, c, maxIters)\n",
    "        \n",
    "        errorPCA, errorKPCA = 0, 0\n",
    "        \n",
    "        for i, z in enumerate(Zpca):\n",
    "            errorPCA += np.linalg.norm(z-centers[int(i/nTest)])**2\n",
    "        for i, z in enumerate(Zkpca):\n",
    "            errorKPCA += np.linalg.norm(z-centers[int(i/nTest)])**2\n",
    "        \n",
    "        print(sigmas[sigmaIdx], n, errorPCA, errorKPCA, errorPCA/errorKPCA)\n",
    "print(\"--- \", time.time()-start_time, \"sec\", \"---\")"
   ]
  },
  {
   "cell_type": "code",
   "execution_count": 148,
   "metadata": {
    "collapsed": false
   },
   "outputs": [
    {
     "name": "stdout",
     "output_type": "stream",
     "text": [
      "0.2 1 928.732061107 124.814388982 7.44090540105\n",
      "0.2 2 678.891557631 123.884548536 5.48003415803\n",
      "0.2 3 473.38301713 20.3941951701 23.2116547469\n",
      "0.2 4 341.580557353 40.4394840354 8.44670908892\n",
      "0.2 5 236.111345022 10.4165343941 22.6669769511\n",
      "0.2 6 181.818938029 9.56128772769 19.0161558995\n",
      "0.2 7 140.265712988 9.37235363299 14.9659006137\n",
      "0.2 8 121.620347135 4.23365978862 28.727000564\n",
      "0.2 9 128.053372872 1.94612721157 65.799076294\n",
      "---  609.0764348506927 sec ---\n"
     ]
    }
   ],
   "source": [
    "start_time = time.time()\n",
    "maxIters = 10\n",
    "for sigmaIdx in [2]:\n",
    "    c = 10*2*sigmas[sigmaIdx]**2\n",
    "    Data = Xtrain[sigmaIdx]\n",
    "    Test = Xtest[sigmaIdx]\n",
    "    for n in range(1, 10):\n",
    "        Zpca = myPCA(Data, Test, n)\n",
    "        Zkpca = myKPCA(Data, Test, n, c, maxIters)\n",
    "        \n",
    "        errorPCA, errorKPCA = 0, 0\n",
    "        \n",
    "        for i, z in enumerate(Zpca):\n",
    "            errorPCA += np.linalg.norm(z-centers[int(i/nTest)])**2\n",
    "        for i, z in enumerate(Zkpca):\n",
    "            errorKPCA += np.linalg.norm(z-centers[int(i/nTest)])**2\n",
    "        \n",
    "        print(sigmas[sigmaIdx], n, errorPCA, errorKPCA, errorPCA/errorKPCA)\n",
    "print(\"--- \", time.time()-start_time, \"sec\", \"---\")"
   ]
  },
  {
   "cell_type": "code",
   "execution_count": 149,
   "metadata": {
    "collapsed": false
   },
   "outputs": [
    {
     "name": "stdout",
     "output_type": "stream",
     "text": [
      "0.4 1 969.629920331 1394.13736511 0.695505295676\n",
      "0.4 2 769.414606356 922.251798604 0.834278238894\n",
      "0.4 3 607.184684833 400.752506216 1.51511138524\n",
      "0.4 4 520.198217335 264.919557937 1.96360820389\n",
      "0.4 5 453.62100609 146.116125155 3.10452392306\n",
      "0.4 6 441.362933958 123.838328507 3.56402528425\n",
      "0.4 7 446.075653637 91.7325035597 4.8627873036\n",
      "0.4 8 474.150754377 65.6953067793 7.2174220294\n",
      "0.4 9 517.487107352 50.1599167846 10.316745731\n",
      "---  645.8423719406128 sec ---\n"
     ]
    }
   ],
   "source": [
    "start_time = time.time()\n",
    "maxIters = 10\n",
    "for sigmaIdx in [3]:\n",
    "    c = 10*2*sigmas[sigmaIdx]**2\n",
    "    Data = Xtrain[sigmaIdx]\n",
    "    Test = Xtest[sigmaIdx]\n",
    "    for n in range(1, 10):\n",
    "        Zpca = myPCA(Data, Test, n)\n",
    "        Zkpca = myKPCA(Data, Test, n, c, maxIters)\n",
    "        \n",
    "        errorPCA, errorKPCA = 0, 0\n",
    "        \n",
    "        for i, z in enumerate(Zpca):\n",
    "            errorPCA += np.linalg.norm(z-centers[int(i/nTest)])**2\n",
    "        for i, z in enumerate(Zkpca):\n",
    "            errorKPCA += np.linalg.norm(z-centers[int(i/nTest)])**2\n",
    "        \n",
    "        print(sigmas[sigmaIdx], n, errorPCA, errorKPCA, errorPCA/errorKPCA)\n",
    "print(\"--- \", time.time()-start_time, \"sec\", \"---\")"
   ]
  },
  {
   "cell_type": "code",
   "execution_count": 150,
   "metadata": {
    "collapsed": false
   },
   "outputs": [
    {
     "name": "stdout",
     "output_type": "stream",
     "text": [
      "0.8 1 1144.91134352 1676.72757622 0.682824902365\n",
      "0.8 2 1096.93422335 1241.43799456 0.883599686941\n",
      "0.8 3 1104.40016106 1079.73623397 1.02284254832\n",
      "0.8 4 1192.50681113 1014.28432867 1.17571254669\n",
      "0.8 5 1305.45552547 1026.20952296 1.27211402375\n",
      "0.8 6 1451.01441487 953.414267172 1.52191388867\n",
      "0.8 7 1662.11684961 928.467358933 1.79017262547\n",
      "0.8 8 1855.48852231 914.917291878 2.02803962585\n",
      "0.8 9 2060.53625753 901.562764558 2.28551614878\n",
      "---  640.5740239620209 sec ---\n"
     ]
    }
   ],
   "source": [
    "start_time = time.time()\n",
    "maxIters = 10\n",
    "for sigmaIdx in [4]:\n",
    "    c = 2*sigmas[sigmaIdx]**2\n",
    "    Data = Xtrain[sigmaIdx]\n",
    "    Test = Xtest[sigmaIdx]\n",
    "    for n in range(1, 10):\n",
    "        Zpca = myPCA(Data, Test, n)\n",
    "        Zkpca = myKPCA(Data, Test, n, c, maxIters)\n",
    "        \n",
    "        errorPCA, errorKPCA = 0, 0\n",
    "        \n",
    "        for i, z in enumerate(Zpca):\n",
    "            errorPCA += np.linalg.norm(z-centers[int(i/nTest)])**2\n",
    "        for i, z in enumerate(Zkpca):\n",
    "            errorKPCA += np.linalg.norm(z-centers[int(i/nTest)])**2\n",
    "        \n",
    "        print(sigmas[sigmaIdx], n, errorPCA, errorKPCA, errorPCA/errorKPCA)\n",
    "print(\"--- \", time.time()-start_time, \"sec\", \"---\")"
   ]
  }
 ],
 "metadata": {
  "kernelspec": {
   "display_name": "Python 3",
   "language": "python",
   "name": "python3"
  },
  "language_info": {
   "codemirror_mode": {
    "name": "ipython",
    "version": 3
   },
   "file_extension": ".py",
   "mimetype": "text/x-python",
   "name": "python",
   "nbconvert_exporter": "python",
   "pygments_lexer": "ipython3",
   "version": "3.5.2"
  }
 },
 "nbformat": 4,
 "nbformat_minor": 0
}
